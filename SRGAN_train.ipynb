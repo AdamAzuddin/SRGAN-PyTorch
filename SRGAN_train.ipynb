{
 "cells": [
  {
   "cell_type": "markdown",
   "metadata": {},
   "source": [
    "### Import necessary dependencies"
   ]
  },
  {
   "cell_type": "code",
   "execution_count": 1,
   "metadata": {},
   "outputs": [],
   "source": [
    "import os\n",
    "import torch\n",
    "import torch.nn as nn\n",
    "import torch.nn.functional as F\n",
    "import torch.optim as optim\n",
    "from torch.optim.lr_scheduler import ReduceLROnPlateau\n",
    "import torchvision.transforms.functional as TF\n",
    "from torchvision.models import vgg19\n",
    "from torch.utils.data import DataLoader\n",
    "import matplotlib.pyplot as plt\n",
    "from PIL import Image\n",
    "import cv2\n",
    "import random\n",
    "import numpy as np\n",
    "from tqdm import tqdm"
   ]
  },
  {
   "cell_type": "markdown",
   "metadata": {},
   "source": [
    "### Configurations"
   ]
  },
  {
   "cell_type": "code",
   "execution_count": 2,
   "metadata": {},
   "outputs": [],
   "source": [
    "torch.manual_seed(42)\n",
    "\n",
    "device = torch.device('cuda' if torch.cuda.is_available() else 'cpu')\n",
    "learning_rate = 1e-4\n",
    "num_epochs = 50\n",
    "batch_size = 16\n",
    "scale = 4\n",
    "patch_size = (96, 96)\n",
    "num_residual_blocks = 16"
   ]
  },
  {
   "cell_type": "markdown",
   "metadata": {},
   "source": [
    "### Preprocessing"
   ]
  },
  {
   "cell_type": "code",
   "execution_count": 3,
   "metadata": {},
   "outputs": [],
   "source": [
    "def image_to_patches(image, patch_size):\n",
    "    channels, height, width = image.size()\n",
    "    patch_height, patch_width = patch_size\n",
    "    patches = []\n",
    "    \n",
    "    # Calculate padding needed for width and height\n",
    "    pad_height = patch_height - height%patch_height\n",
    "    pad_width = patch_width - width%patch_width\n",
    "    \n",
    "    # Apply the padding\n",
    "    padded_image = F.pad(image, (0, pad_width, 0, pad_height))\n",
    "    \n",
    "    # start, stop, step\n",
    "    for y in range(0, height, patch_height):\n",
    "        for x in range(0, width, patch_width):\n",
    "            # the patch consist of all the channels, \n",
    "            patch = padded_image[:, y:y+patch_height, x:x+patch_width]\n",
    "            patches.append(patch)\n",
    "            \n",
    "            \n",
    "    return patches"
   ]
  },
  {
   "cell_type": "code",
   "execution_count": 4,
   "metadata": {},
   "outputs": [],
   "source": [
    "def preprocess_images_in_folder(folder_path, scale, patch_size):\n",
    "    \n",
    "    processed_images = []\n",
    "    \n",
    "    for filename in tqdm(os.listdir(folder_path), desc=\"Processing images\", colour='green') :\n",
    "        image_path = os.path.join(folder_path, filename)\n",
    "        \n",
    "        input_image = cv2.imread(image_path)\n",
    "        \n",
    "        input_image_rgb = cv2.cvtColor(input_image, cv2.COLOR_BGR2RGB)\n",
    "        \n",
    "        # change cv2 BGR to RGB\n",
    "        GT_tensor = torch.tensor(input_image_rgb, dtype=torch.float32).permute(2,0,1)/255 * 2 -1\n",
    "        \n",
    "        \n",
    "        GT_image_pil = Image.fromarray(input_image_rgb)\n",
    "        LR_image = TF.resize(GT_image_pil, [GT_image_pil.size[1] // scale, GT_image_pil.size[0] // scale], interpolation=Image.BICUBIC)\n",
    "        \n",
    "        LR_tensor_resized = TF.resize(LR_image, [GT_tensor.shape[1], GT_tensor.shape[2]], interpolation=Image.BICUBIC)\n",
    "        LR_tensor_resized = TF.to_tensor(LR_tensor_resized).float() * 2 - 1\n",
    "        \n",
    "        LR_patches = image_to_patches(LR_tensor_resized, patch_size)\n",
    "        GT_patches = image_to_patches(GT_tensor, patch_size)\n",
    "        processed_images.extend(zip(LR_patches, GT_patches))\n",
    "        \n",
    "    return processed_images"
   ]
  },
  {
   "cell_type": "code",
   "execution_count": 5,
   "metadata": {},
   "outputs": [],
   "source": [
    "def display_image(LR, GT):\n",
    "    \n",
    "    # Display Ground Truth Image\n",
    "    \n",
    "    plt.figure(figsize=(10, 5))\n",
    "    plt.subplot(1, 2, 1)\n",
    "    plt.imshow(GT.permute(1,2,0))\n",
    "    plt.title(\"Ground Truth (GT)\")\n",
    "    plt.axis('off')\n",
    "    \n",
    "    # Display the input image\n",
    "    plt.subplot(1, 2, 1)\n",
    "    plt.imshow(LR.permute(1, 2, 0))\n",
    "    plt.title(\"Low Resolution (LR)\")\n",
    "    plt.axis('off')\n",
    "    \n",
    "    plt.show()"
   ]
  },
  {
   "cell_type": "markdown",
   "metadata": {},
   "source": [
    "### Preprocessing training and test images"
   ]
  },
  {
   "cell_type": "code",
   "execution_count": 6,
   "metadata": {},
   "outputs": [
    {
     "name": "stderr",
     "output_type": "stream",
     "text": [
      "Processing images: 100%|\u001b[32m██████████\u001b[0m| 100/100 [00:01<00:00, 52.89it/s]\n",
      "Processing images: 100%|\u001b[32m██████████\u001b[0m| 5/5 [00:00<00:00, 60.77it/s]\n",
      "Processing images: 100%|\u001b[32m██████████\u001b[0m| 14/14 [00:00<00:00, 55.27it/s]\n"
     ]
    }
   ],
   "source": [
    "train_images_folder_path = 'data/Train'\n",
    "test_images_set5_folder_path = 'data/Test/Set5'\n",
    "test_images_set14_folder_path = 'data/Test/Set14'\n",
    "\n",
    "processed_train_images = preprocess_images_in_folder(train_images_folder_path, scale, patch_size)\n",
    "processed_test_set5_images = preprocess_images_in_folder(test_images_set5_folder_path, scale, patch_size)\n",
    "processed_test_set14_images = preprocess_images_in_folder(test_images_set14_folder_path, scale, patch_size)"
   ]
  },
  {
   "cell_type": "code",
   "execution_count": 10,
   "metadata": {},
   "outputs": [
    {
     "name": "stderr",
     "output_type": "stream",
     "text": [
      "Clipping input data to the valid range for imshow with RGB data ([0..1] for floats or [0..255] for integers).\n",
      "Clipping input data to the valid range for imshow with RGB data ([0..1] for floats or [0..255] for integers).\n"
     ]
    },
    {
     "name": "stdout",
     "output_type": "stream",
     "text": [
      "torch.Size([3, 96, 96])\n"
     ]
    },
    {
     "data": {
      "image/png": "[encoded data removed]",
      "text/plain": [
       "<Figure size 640x480 with 2 Axes>"
      ]
     },
     "metadata": {},
     "output_type": "display_data"
    }
   ],
   "source": [
    "# Assuming processed_images is your list of LR and GT patches\n",
    "random_pair = random.choice(processed_test_set5_images)\n",
    "LR_patch, GT_patch = random_pair\n",
    "\n",
    "# Plot LR image\n",
    "plt.subplot(1, 2, 1)\n",
    "plt.imshow(LR_patch.permute(1, 2, 0))  # Permute LR image dimensions to (height, width, channels) and plot\n",
    "plt.title('Low-Resolution (LR) Image')\n",
    "plt.axis('off')\n",
    "\n",
    "print(LR_patch.size())\n",
    "# Plot GT image\n",
    "plt.subplot(1, 2, 2)\n",
    "plt.imshow(GT_patch.permute(1, 2, 0))  # Assuming GT image is also in (height, width, channels) format\n",
    "plt.title('Ground Truth (GT) Image')\n",
    "plt.axis('off')\n",
    "\n",
    "plt.show()"
   ]
  },
  {
   "cell_type": "markdown",
   "metadata": {},
   "source": [
    "### Putting images in DataLoader"
   ]
  },
  {
   "cell_type": "code",
   "execution_count": 11,
   "metadata": {},
   "outputs": [],
   "source": [
    "train_loader = DataLoader(processed_train_images, batch_size=batch_size)\n",
    "test_set5_loader = DataLoader(processed_test_set5_images, batch_size=batch_size)\n",
    "test_set14_loader = DataLoader(processed_test_set14_images, batch_size=batch_size)"
   ]
  },
  {
   "cell_type": "markdown",
   "metadata": {},
   "source": [
    "### Defining Residual Block classes for Generator and Discriminator"
   ]
  },
  {
   "cell_type": "code",
   "execution_count": 12,
   "metadata": {},
   "outputs": [],
   "source": [
    "class ResBlockGenerator(nn.Module):\n",
    "    def __init__(self):\n",
    "        super(ResBlockGenerator, self).__init__()\n",
    "        self.conv1 = nn.Conv2d(64, 64, kernel_size=3, stride=1, padding='same')\n",
    "        self.batch_norm1 = nn.BatchNorm2d(64, momentum=0.5)\n",
    "        self.p_relu = nn.PReLU()\n",
    "        self.conv2 = nn.Conv2d(64, 64, kernel_size=3, stride=1, padding='same')\n",
    "        self.batch_norm2 = nn.BatchNorm2d(64, momentum=0.5)\n",
    "        \n",
    "    def forward(self, input_tensor):\n",
    "        out = self.conv1(input_tensor)\n",
    "        out = self.batch_norm1(out)\n",
    "        out = self.p_relu(out)\n",
    "        out = self.conv2(out)\n",
    "        out = self.batch_norm2(out)\n",
    "        out += input_tensor\n",
    "        return out"
   ]
  },
  {
   "cell_type": "markdown",
   "metadata": {},
   "source": [
    "### Defining Generator model"
   ]
  },
  {
   "cell_type": "code",
   "execution_count": 13,
   "metadata": {},
   "outputs": [],
   "source": [
    "class Generator(nn.Module):\n",
    "    def __init__(self, num_residual_blocks = num_residual_blocks):\n",
    "        super(Generator, self).__init__()\n",
    "        # Pre residual layers\n",
    "        self.conv1 = nn.Conv2d(3, 64, kernel_size=9, stride=1, padding='same')\n",
    "        self.p_relu1 = nn.PReLU()\n",
    "        \n",
    "        self.residual_blocks = nn.Sequential(\n",
    "            *[ResBlockGenerator() for _ in range(num_residual_blocks)]\n",
    "        )\n",
    "        \n",
    "        # Post residual layers\n",
    "        self.conv2 = nn.Conv2d(64, 64, kernel_size=3, stride=1, padding='same')\n",
    "        self.batch_norm = nn.BatchNorm2d(64, momentum=0.5)\n",
    "        \n",
    "        # Upsampling layers\n",
    "        self.upsample1 = nn.Sequential(\n",
    "            nn.Conv2d(64, 256, kernel_size=3, stride=1, padding='same'),\n",
    "            nn.PixelShuffle(2),\n",
    "            nn.PReLU()\n",
    "        )\n",
    "        \n",
    "        self.upsample2 = nn.Sequential(\n",
    "            nn.Conv2d(64, 256, kernel_size=3, stride=1, padding='same'),\n",
    "            nn.PixelShuffle(2),\n",
    "            nn.PReLU()\n",
    "        )\n",
    "        \n",
    "        # Output convolutional layer\n",
    "        self.conv3 = nn.Conv2d(64, 3, kernel_size=9, stride=1, padding='same')\n",
    "        \n",
    "    def forward(self, input_tensor):\n",
    "        out = self.conv1(input_tensor)\n",
    "        out = self.p_relu1(out)\n",
    "        input_residual_tensor = out.clone()\n",
    "        \n",
    "        for res_block in self.residual_blocks:\n",
    "            out = res_block(out)\n",
    "            \n",
    "        out = self.conv2(out)\n",
    "        out = self.batch_norm(out)\n",
    "        out += input_residual_tensor\n",
    "        \n",
    "        out = self.upsample1(out)\n",
    "        out = self.upsample2(out)\n",
    "            \n",
    "        out = self.conv3(out)\n",
    "        return out\n",
    "        "
   ]
  },
  {
   "cell_type": "markdown",
   "metadata": {},
   "source": [
    "### Defining Discriminator model"
   ]
  },
  {
   "cell_type": "code",
   "execution_count": 14,
   "metadata": {},
   "outputs": [],
   "source": [
    "class DiscriminatorBlock(nn.Module):\n",
    "    def __init__(self, in_channel,out_channel, strides = 1, padding_same=True):\n",
    "        super(DiscriminatorBlock, self).__init__()\n",
    "        \n",
    "        if padding_same:\n",
    "            self.padding = 'same'\n",
    "        else:\n",
    "            self.padding = 0\n",
    "            \n",
    "        self.conv = nn.Conv2d(in_channel, out_channel, kernel_size=3, stride=strides, padding=self.padding)\n",
    "        self.batch_normalization = nn.BatchNorm2d(out_channel, momentum=0.8)\n",
    "        self.leaky_relu = nn.LeakyReLU(0.2)\n",
    "        \n",
    "    def forward(self, input_tensor):\n",
    "        out = self.conv(input_tensor)\n",
    "        out = self.batch_normalization(out)\n",
    "        out = self.leaky_relu(out)\n",
    "        return out"
   ]
  },
  {
   "cell_type": "code",
   "execution_count": 15,
   "metadata": {},
   "outputs": [],
   "source": [
    "class Discriminator(nn.Module):\n",
    "    def __init__(self):\n",
    "        super(Discriminator, self).__init__()\n",
    "        self.conv1 = nn.Conv2d(3, 64, kernel_size=3, stride=1, padding='same')\n",
    "        self.leaky_relu1 = nn.LeakyReLU(0.2)\n",
    "        \n",
    "        self.block_with_batch_norm = nn.Sequential(\n",
    "            DiscriminatorBlock(64, 64, strides=2, padding_same=False),\n",
    "            DiscriminatorBlock(64, 128),\n",
    "            DiscriminatorBlock(128, 128,strides=2, padding_same=False),\n",
    "            DiscriminatorBlock(128, 256),\n",
    "            DiscriminatorBlock(256, 256, strides=2, padding_same=False),\n",
    "            DiscriminatorBlock(256, 512, ),\n",
    "            DiscriminatorBlock(512, 512, strides=2, padding_same=False)\n",
    "        )\n",
    "        \n",
    "        self.flatten = nn.Flatten()\n",
    "        self.dense1 = nn.Linear(512 * 5 * 5, 1024)\n",
    "        self.leaky_relu2 = nn.LeakyReLU(0.2)\n",
    "        self.dense2 = nn.Linear(1024, 1)\n",
    "        self.sigmoid = nn.Sigmoid()\n",
    "        \n",
    "        \n",
    "        \n",
    "    def forward(self, input_tensor):\n",
    "        out = self.conv1(input_tensor)\n",
    "        out = self.leaky_relu1(out)\n",
    "        out = self.block_with_batch_norm(out)\n",
    "        out = self.flatten(out)\n",
    "        out = self.dense1(out)\n",
    "        out = self.leaky_relu2(out)\n",
    "        out = self.dense2(out)\n",
    "        out = self.sigmoid(out)\n",
    "        return out"
   ]
  },
  {
   "cell_type": "markdown",
   "metadata": {},
   "source": [
    "### Creating VGG loss function"
   ]
  },
  {
   "cell_type": "code",
   "execution_count": 16,
   "metadata": {},
   "outputs": [],
   "source": [
    "#phi_2,2, after 2nd activation, but before the 2nd max pooling\n",
    "\n",
    "class VGG19Loss(nn.Module):\n",
    "    def __init__(self, layer_index=9):\n",
    "        super(VGG19Loss, self).__init__()\n",
    "        vgg19_model = vgg19(weights='DEFAULT')\n",
    "        \n",
    "        # vgg19_model.features.children() returns an iterator over each individual layer\n",
    "        # list() converts the iterator into a Python list\n",
    "        # [:layer_index + 1] slices the list up to and including the layer at layer_index\n",
    "        # * is the unpacking operator, which makes the list elements suitable to be passed to nn.Sequential \n",
    "        self.features = nn.Sequential(*list(vgg19_model.features.children())[:layer_index + 1])\n",
    "        \n",
    "        # Make sure no updating of the parameters occur\n",
    "        for param in self.features.parameters():\n",
    "            param.requires_grad = False\n",
    "            \n",
    "        self.criterion = nn.MSELoss()\n",
    "        \n",
    "    def forward(self, sr, hr):\n",
    "        sr_features = self.features(sr)\n",
    "        hr_features = self.features(hr)\n",
    "        \n",
    "        loss = self.criterion(sr_features, hr_features)\n",
    "        \n",
    "        return loss"
   ]
  },
  {
   "cell_type": "markdown",
   "metadata": {},
   "source": [
    "### Defining generator, discriminator and VGG loss"
   ]
  },
  {
   "cell_type": "code",
   "execution_count": 17,
   "metadata": {},
   "outputs": [
    {
     "data": {
      "text/plain": [
       "VGG19Loss(\n",
       "  (features): Sequential(\n",
       "    (0): Conv2d(3, 64, kernel_size=(3, 3), stride=(1, 1), padding=(1, 1))\n",
       "    (1): ReLU(inplace=True)\n",
       "    (2): Conv2d(64, 64, kernel_size=(3, 3), stride=(1, 1), padding=(1, 1))\n",
       "    (3): ReLU(inplace=True)\n",
       "    (4): MaxPool2d(kernel_size=2, stride=2, padding=0, dilation=1, ceil_mode=False)\n",
       "    (5): Conv2d(64, 128, kernel_size=(3, 3), stride=(1, 1), padding=(1, 1))\n",
       "    (6): ReLU(inplace=True)\n",
       "    (7): Conv2d(128, 128, kernel_size=(3, 3), stride=(1, 1), padding=(1, 1))\n",
       "    (8): ReLU(inplace=True)\n",
       "    (9): MaxPool2d(kernel_size=2, stride=2, padding=0, dilation=1, ceil_mode=False)\n",
       "  )\n",
       "  (criterion): MSELoss()\n",
       ")"
      ]
     },
     "execution_count": 17,
     "metadata": {},
     "output_type": "execute_result"
    }
   ],
   "source": [
    "generator = Generator(num_residual_blocks=16)\n",
    "discriminator = Discriminator()\n",
    "vgg_loss = VGG19Loss()\n",
    "\n",
    "generator.to(device)\n",
    "discriminator.to(device)\n",
    "vgg_loss.to(device)"
   ]
  },
  {
   "cell_type": "markdown",
   "metadata": {},
   "source": [
    "### Defining optimizers and loss functions"
   ]
  },
  {
   "cell_type": "code",
   "execution_count": 20,
   "metadata": {},
   "outputs": [
    {
     "name": "stderr",
     "output_type": "stream",
     "text": [
      "c:\\Python311\\Lib\\site-packages\\torch\\optim\\lr_scheduler.py:28: UserWarning: The verbose parameter is deprecated. Please use get_last_lr() to access the learning rate.\n",
      "  warnings.warn(\"The verbose parameter is deprecated. Please use get_last_lr() \"\n"
     ]
    }
   ],
   "source": [
    "optimizer_generator = optim.Adam(generator.parameters(), lr=1e-4, betas=(0.9, 0.999))\n",
    "optimizer_discriminator = optim.Adam(discriminator.parameters(), lr=5e-5, betas=(0.9, 0.999))\n",
    "\n",
    "scheduler_generator = ReduceLROnPlateau(optimizer_generator, mode='min', factor=0.5, patience=5, verbose=True)\n",
    "scheduler_discriminator = ReduceLROnPlateau(optimizer_discriminator, mode='min', factor=0.5, patience=5, verbose=True)\n",
    "\n",
    "adversarial_criterion = nn.BCELoss()\n",
    "pixel_criterion = nn.MSELoss()"
   ]
  },
  {
   "cell_type": "markdown",
   "metadata": {},
   "source": [
    "### Training loop"
   ]
  },
  {
   "cell_type": "code",
   "execution_count": 16,
   "metadata": {},
   "outputs": [
    {
     "name": "stderr",
     "output_type": "stream",
     "text": [
      "Epoch 1/50: 100%|██████████| 125/125 [34:05<00:00, 16.37s/it, Discriminator loss=7.33, Generator loss=3.03]\n"
     ]
    },
    {
     "name": "stdout",
     "output_type": "stream",
     "text": [
      "[Epoch 1/50] [D loss: 7.3321] [G loss: 3.0282] [Pixel loss: 0.1631] [VGG loss: 2.8635] [Adversarial loss: 1.6097]\n"
     ]
    },
    {
     "name": "stderr",
     "output_type": "stream",
     "text": [
      "Epoch 2/50: 100%|██████████| 125/125 [34:20<00:00, 16.48s/it, Discriminator loss=8.86, Generator loss=2.84] \n"
     ]
    },
    {
     "name": "stdout",
     "output_type": "stream",
     "text": [
      "[Epoch 2/50] [D loss: 8.8583] [G loss: 2.8438] [Pixel loss: 0.1217] [VGG loss: 2.7166] [Adversarial loss: 5.5346]\n"
     ]
    },
    {
     "name": "stderr",
     "output_type": "stream",
     "text": [
      "Epoch 3/50: 100%|██████████| 125/125 [33:55<00:00, 16.29s/it, Discriminator loss=8.12, Generator loss=2.74] \n"
     ]
    },
    {
     "name": "stdout",
     "output_type": "stream",
     "text": [
      "[Epoch 3/50] [D loss: 8.1225] [G loss: 2.7448] [Pixel loss: 0.0941] [VGG loss: 2.6469] [Adversarial loss: 3.8384]\n"
     ]
    },
    {
     "name": "stderr",
     "output_type": "stream",
     "text": [
      "Epoch 4/50: 100%|██████████| 125/125 [35:08<00:00, 16.87s/it, Discriminator loss=29.4, Generator loss=2.76] \n"
     ]
    },
    {
     "name": "stdout",
     "output_type": "stream",
     "text": [
      "[Epoch 4/50] [D loss: 29.3537] [G loss: 2.7613] [Pixel loss: 0.0733] [VGG loss: 2.6297] [Adversarial loss: 58.2288]\n"
     ]
    },
    {
     "name": "stderr",
     "output_type": "stream",
     "text": [
      "Epoch 5/50: 100%|██████████| 125/125 [34:25<00:00, 16.52s/it, Discriminator loss=50, Generator loss=2.71]  \n"
     ]
    },
    {
     "name": "stdout",
     "output_type": "stream",
     "text": [
      "[Epoch 5/50] [D loss: 50.0000] [G loss: 2.7065] [Pixel loss: 0.0632] [VGG loss: 2.5933] [Adversarial loss: 50.0000]\n"
     ]
    },
    {
     "name": "stderr",
     "output_type": "stream",
     "text": [
      "Epoch 6/50: 100%|██████████| 125/125 [35:35<00:00, 17.09s/it, Discriminator loss=50, Generator loss=2.61]  \n"
     ]
    },
    {
     "name": "stdout",
     "output_type": "stream",
     "text": [
      "[Epoch 6/50] [D loss: 50.0000] [G loss: 2.6111] [Pixel loss: 0.0558] [VGG loss: 2.5116] [Adversarial loss: 43.7500]\n"
     ]
    },
    {
     "name": "stderr",
     "output_type": "stream",
     "text": [
      "Epoch 7/50: 100%|██████████| 125/125 [34:43<00:00, 16.67s/it, Discriminator loss=50, Generator loss=2.57]  \n"
     ]
    },
    {
     "name": "stdout",
     "output_type": "stream",
     "text": [
      "[Epoch 7/50] [D loss: 50.0000] [G loss: 2.5687] [Pixel loss: 0.0482] [VGG loss: 2.4767] [Adversarial loss: 43.7500]\n"
     ]
    },
    {
     "name": "stderr",
     "output_type": "stream",
     "text": [
      "Epoch 8/50: 100%|██████████| 125/125 [34:24<00:00, 16.51s/it, Discriminator loss=50, Generator loss=2.5]    \n"
     ]
    },
    {
     "name": "stdout",
     "output_type": "stream",
     "text": [
      "[Epoch 8/50] [D loss: 50.0076] [G loss: 2.5038] [Pixel loss: 0.0436] [VGG loss: 2.4214] [Adversarial loss: 38.8248]\n"
     ]
    },
    {
     "name": "stderr",
     "output_type": "stream",
     "text": [
      "Epoch 9/50: 100%|██████████| 125/125 [34:30<00:00, 16.56s/it, Discriminator loss=50, Generator loss=2.47]  \n"
     ]
    },
    {
     "name": "stdout",
     "output_type": "stream",
     "text": [
      "[Epoch 9/50] [D loss: 50.0000] [G loss: 2.4739] [Pixel loss: 0.0399] [VGG loss: 2.3903] [Adversarial loss: 43.7500]\n"
     ]
    },
    {
     "name": "stderr",
     "output_type": "stream",
     "text": [
      "Epoch 10/50: 100%|██████████| 125/125 [34:52<00:00, 16.74s/it, Discriminator loss=53.1, Generator loss=2.47] \n"
     ]
    },
    {
     "name": "stdout",
     "output_type": "stream",
     "text": [
      "[Epoch 10/50] [D loss: 53.1250] [G loss: 2.4699] [Pixel loss: 0.0391] [VGG loss: 2.3933] [Adversarial loss: 37.5000]\n"
     ]
    },
    {
     "name": "stderr",
     "output_type": "stream",
     "text": [
      "Epoch 11/50: 100%|██████████| 125/125 [33:46<00:00, 16.21s/it, Discriminator loss=50, Generator loss=2.43]   \n"
     ]
    },
    {
     "name": "stdout",
     "output_type": "stream",
     "text": [
      "[Epoch 11/50] [D loss: 50.0000] [G loss: 2.4296] [Pixel loss: 0.0356] [VGG loss: 2.3502] [Adversarial loss: 43.7500]\n"
     ]
    },
    {
     "name": "stderr",
     "output_type": "stream",
     "text": [
      "Epoch 12/50: 100%|██████████| 125/125 [33:37<00:00, 16.14s/it, Discriminator loss=50, Generator loss=2.39]   \n"
     ]
    },
    {
     "name": "stdout",
     "output_type": "stream",
     "text": [
      "[Epoch 12/50] [D loss: 50.0000] [G loss: 2.3892] [Pixel loss: 0.0341] [VGG loss: 2.3176] [Adversarial loss: 37.5000]\n"
     ]
    },
    {
     "name": "stderr",
     "output_type": "stream",
     "text": [
      "Epoch 13/50: 100%|██████████| 125/125 [35:10<00:00, 16.89s/it, Discriminator loss=46.9, Generator loss=2.37]\n"
     ]
    },
    {
     "name": "stdout",
     "output_type": "stream",
     "text": [
      "[Epoch 13/50] [D loss: 46.8750] [G loss: 2.3721] [Pixel loss: 0.0326] [VGG loss: 2.3020] [Adversarial loss: 37.5000]\n"
     ]
    },
    {
     "name": "stderr",
     "output_type": "stream",
     "text": [
      "Epoch 14/50: 100%|██████████| 125/125 [33:15<00:00, 15.96s/it, Discriminator loss=46.9, Generator loss=2.33]\n"
     ]
    },
    {
     "name": "stdout",
     "output_type": "stream",
     "text": [
      "[Epoch 14/50] [D loss: 46.8750] [G loss: 2.3310] [Pixel loss: 0.0316] [VGG loss: 2.2619] [Adversarial loss: 37.5000]\n"
     ]
    },
    {
     "name": "stderr",
     "output_type": "stream",
     "text": [
      "Epoch 15/50: 100%|██████████| 125/125 [33:39<00:00, 16.16s/it, Discriminator loss=48.2, Generator loss=2.3]  \n"
     ]
    },
    {
     "name": "stdout",
     "output_type": "stream",
     "text": [
      "[Epoch 15/50] [D loss: 48.2185] [G loss: 2.2967] [Pixel loss: 0.0281] [VGG loss: 2.2566] [Adversarial loss: 12.1151]\n"
     ]
    },
    {
     "name": "stderr",
     "output_type": "stream",
     "text": [
      "Epoch 16/50: 100%|██████████| 125/125 [33:34<00:00, 16.12s/it, Discriminator loss=50, Generator loss=2.28]  \n"
     ]
    },
    {
     "name": "stdout",
     "output_type": "stream",
     "text": [
      "[Epoch 16/50] [D loss: 50.0000] [G loss: 2.2815] [Pixel loss: 0.0275] [VGG loss: 2.2540] [Adversarial loss: 0.0000]\n"
     ]
    },
    {
     "name": "stderr",
     "output_type": "stream",
     "text": [
      "Epoch 17/50: 100%|██████████| 125/125 [33:11<00:00, 15.94s/it, Discriminator loss=50, Generator loss=2.26]  \n"
     ]
    },
    {
     "name": "stdout",
     "output_type": "stream",
     "text": [
      "[Epoch 17/50] [D loss: 50.0000] [G loss: 2.2561] [Pixel loss: 0.0275] [VGG loss: 2.2286] [Adversarial loss: 0.0000]\n"
     ]
    },
    {
     "name": "stderr",
     "output_type": "stream",
     "text": [
      "Epoch 18/50: 100%|██████████| 125/125 [33:07<00:00, 15.90s/it, Discriminator loss=50, Generator loss=2.26]  \n"
     ]
    },
    {
     "name": "stdout",
     "output_type": "stream",
     "text": [
      "[Epoch 18/50] [D loss: 50.0000] [G loss: 2.2563] [Pixel loss: 0.0276] [VGG loss: 2.2287] [Adversarial loss: 0.0000]\n"
     ]
    },
    {
     "name": "stderr",
     "output_type": "stream",
     "text": [
      "Epoch 19/50: 100%|██████████| 125/125 [33:07<00:00, 15.90s/it, Discriminator loss=50, Generator loss=2.22]  \n"
     ]
    },
    {
     "name": "stdout",
     "output_type": "stream",
     "text": [
      "[Epoch 19/50] [D loss: 50.0000] [G loss: 2.2230] [Pixel loss: 0.0276] [VGG loss: 2.1954] [Adversarial loss: 0.0000]\n"
     ]
    },
    {
     "name": "stderr",
     "output_type": "stream",
     "text": [
      "Epoch 20/50: 100%|██████████| 125/125 [33:10<00:00, 15.92s/it, Discriminator loss=50, Generator loss=2.22]  \n"
     ]
    },
    {
     "name": "stdout",
     "output_type": "stream",
     "text": [
      "[Epoch 20/50] [D loss: 50.0000] [G loss: 2.2188] [Pixel loss: 0.0274] [VGG loss: 2.1913] [Adversarial loss: 0.0000]\n"
     ]
    },
    {
     "name": "stderr",
     "output_type": "stream",
     "text": [
      "Epoch 21/50: 100%|██████████| 125/125 [33:29<00:00, 16.08s/it, Discriminator loss=50, Generator loss=2.22]  \n"
     ]
    },
    {
     "name": "stdout",
     "output_type": "stream",
     "text": [
      "[Epoch 21/50] [D loss: 50.0000] [G loss: 2.2153] [Pixel loss: 0.0272] [VGG loss: 2.1881] [Adversarial loss: 0.0000]\n"
     ]
    },
    {
     "name": "stderr",
     "output_type": "stream",
     "text": [
      "Epoch 22/50: 100%|██████████| 125/125 [33:59<00:00, 16.32s/it, Discriminator loss=50, Generator loss=2.2]   \n"
     ]
    },
    {
     "name": "stdout",
     "output_type": "stream",
     "text": [
      "[Epoch 22/50] [D loss: 50.0000] [G loss: 2.1994] [Pixel loss: 0.0259] [VGG loss: 2.1736] [Adversarial loss: 0.0000]\n"
     ]
    },
    {
     "name": "stderr",
     "output_type": "stream",
     "text": [
      "Epoch 23/50: 100%|██████████| 125/125 [34:15<00:00, 16.44s/it, Discriminator loss=50, Generator loss=2.19]  \n"
     ]
    },
    {
     "name": "stdout",
     "output_type": "stream",
     "text": [
      "[Epoch 23/50] [D loss: 50.0000] [G loss: 2.1914] [Pixel loss: 0.0261] [VGG loss: 2.1652] [Adversarial loss: 0.0000]\n"
     ]
    },
    {
     "name": "stderr",
     "output_type": "stream",
     "text": [
      "Epoch 24/50:  16%|█▌        | 20/125 [05:34<29:14, 16.71s/it, Discriminator loss=50, Generator loss=1.94] \n"
     ]
    },
    {
     "ename": "KeyboardInterrupt",
     "evalue": "",
     "output_type": "error",
     "traceback": [
      "\u001b[1;31m---------------------------------------------------------------------------\u001b[0m",
      "\u001b[1;31mKeyboardInterrupt\u001b[0m                         Traceback (most recent call last)",
      "Cell \u001b[1;32mIn[16], line 35\u001b[0m\n\u001b[0;32m     31\u001b[0m adversarial_loss \u001b[38;5;241m=\u001b[39m adversarial_criterion(outputs_fake, real_labels)\n\u001b[0;32m     33\u001b[0m pixel_loss \u001b[38;5;241m=\u001b[39m pixel_criterion(fake_hr_resized, imgs_hr)\n\u001b[1;32m---> 35\u001b[0m perceptual_loss \u001b[38;5;241m=\u001b[39m \u001b[43mvgg_loss\u001b[49m\u001b[43m(\u001b[49m\u001b[43mfake_hr_resized\u001b[49m\u001b[43m,\u001b[49m\u001b[43m \u001b[49m\u001b[43mimgs_hr\u001b[49m\u001b[43m)\u001b[49m\n\u001b[0;32m     37\u001b[0m perceptual_adversarial_loss \u001b[38;5;241m=\u001b[39m perceptual_loss \u001b[38;5;241m+\u001b[39m \u001b[38;5;241m0.001\u001b[39m \u001b[38;5;241m*\u001b[39m adversarial_loss\n\u001b[0;32m     39\u001b[0m total_loss \u001b[38;5;241m=\u001b[39m pixel_loss \u001b[38;5;241m+\u001b[39m perceptual_adversarial_loss\n",
      "File \u001b[1;32mc:\\Python311\\Lib\\site-packages\\torch\\nn\\modules\\module.py:1511\u001b[0m, in \u001b[0;36mModule._wrapped_call_impl\u001b[1;34m(self, *args, **kwargs)\u001b[0m\n\u001b[0;32m   1509\u001b[0m     \u001b[38;5;28;01mreturn\u001b[39;00m \u001b[38;5;28mself\u001b[39m\u001b[38;5;241m.\u001b[39m_compiled_call_impl(\u001b[38;5;241m*\u001b[39margs, \u001b[38;5;241m*\u001b[39m\u001b[38;5;241m*\u001b[39mkwargs)  \u001b[38;5;66;03m# type: ignore[misc]\u001b[39;00m\n\u001b[0;32m   1510\u001b[0m \u001b[38;5;28;01melse\u001b[39;00m:\n\u001b[1;32m-> 1511\u001b[0m     \u001b[38;5;28;01mreturn\u001b[39;00m \u001b[38;5;28;43mself\u001b[39;49m\u001b[38;5;241;43m.\u001b[39;49m\u001b[43m_call_impl\u001b[49m\u001b[43m(\u001b[49m\u001b[38;5;241;43m*\u001b[39;49m\u001b[43margs\u001b[49m\u001b[43m,\u001b[49m\u001b[43m \u001b[49m\u001b[38;5;241;43m*\u001b[39;49m\u001b[38;5;241;43m*\u001b[39;49m\u001b[43mkwargs\u001b[49m\u001b[43m)\u001b[49m\n",
      "File \u001b[1;32mc:\\Python311\\Lib\\site-packages\\torch\\nn\\modules\\module.py:1520\u001b[0m, in \u001b[0;36mModule._call_impl\u001b[1;34m(self, *args, **kwargs)\u001b[0m\n\u001b[0;32m   1515\u001b[0m \u001b[38;5;66;03m# If we don't have any hooks, we want to skip the rest of the logic in\u001b[39;00m\n\u001b[0;32m   1516\u001b[0m \u001b[38;5;66;03m# this function, and just call forward.\u001b[39;00m\n\u001b[0;32m   1517\u001b[0m \u001b[38;5;28;01mif\u001b[39;00m \u001b[38;5;129;01mnot\u001b[39;00m (\u001b[38;5;28mself\u001b[39m\u001b[38;5;241m.\u001b[39m_backward_hooks \u001b[38;5;129;01mor\u001b[39;00m \u001b[38;5;28mself\u001b[39m\u001b[38;5;241m.\u001b[39m_backward_pre_hooks \u001b[38;5;129;01mor\u001b[39;00m \u001b[38;5;28mself\u001b[39m\u001b[38;5;241m.\u001b[39m_forward_hooks \u001b[38;5;129;01mor\u001b[39;00m \u001b[38;5;28mself\u001b[39m\u001b[38;5;241m.\u001b[39m_forward_pre_hooks\n\u001b[0;32m   1518\u001b[0m         \u001b[38;5;129;01mor\u001b[39;00m _global_backward_pre_hooks \u001b[38;5;129;01mor\u001b[39;00m _global_backward_hooks\n\u001b[0;32m   1519\u001b[0m         \u001b[38;5;129;01mor\u001b[39;00m _global_forward_hooks \u001b[38;5;129;01mor\u001b[39;00m _global_forward_pre_hooks):\n\u001b[1;32m-> 1520\u001b[0m     \u001b[38;5;28;01mreturn\u001b[39;00m \u001b[43mforward_call\u001b[49m\u001b[43m(\u001b[49m\u001b[38;5;241;43m*\u001b[39;49m\u001b[43margs\u001b[49m\u001b[43m,\u001b[49m\u001b[43m \u001b[49m\u001b[38;5;241;43m*\u001b[39;49m\u001b[38;5;241;43m*\u001b[39;49m\u001b[43mkwargs\u001b[49m\u001b[43m)\u001b[49m\n\u001b[0;32m   1522\u001b[0m \u001b[38;5;28;01mtry\u001b[39;00m:\n\u001b[0;32m   1523\u001b[0m     result \u001b[38;5;241m=\u001b[39m \u001b[38;5;28;01mNone\u001b[39;00m\n",
      "Cell \u001b[1;32mIn[13], line 22\u001b[0m, in \u001b[0;36mVGG19Loss.forward\u001b[1;34m(self, sr, hr)\u001b[0m\n\u001b[0;32m     20\u001b[0m \u001b[38;5;28;01mdef\u001b[39;00m \u001b[38;5;21mforward\u001b[39m(\u001b[38;5;28mself\u001b[39m, sr, hr):\n\u001b[0;32m     21\u001b[0m     sr_features \u001b[38;5;241m=\u001b[39m \u001b[38;5;28mself\u001b[39m\u001b[38;5;241m.\u001b[39mfeatures(sr)\n\u001b[1;32m---> 22\u001b[0m     hr_features \u001b[38;5;241m=\u001b[39m \u001b[38;5;28;43mself\u001b[39;49m\u001b[38;5;241;43m.\u001b[39;49m\u001b[43mfeatures\u001b[49m\u001b[43m(\u001b[49m\u001b[43mhr\u001b[49m\u001b[43m)\u001b[49m\n\u001b[0;32m     24\u001b[0m     loss \u001b[38;5;241m=\u001b[39m \u001b[38;5;28mself\u001b[39m\u001b[38;5;241m.\u001b[39mcriterion(sr_features, hr_features)\n\u001b[0;32m     26\u001b[0m     \u001b[38;5;28;01mreturn\u001b[39;00m loss\n",
      "File \u001b[1;32mc:\\Python311\\Lib\\site-packages\\torch\\nn\\modules\\module.py:1511\u001b[0m, in \u001b[0;36mModule._wrapped_call_impl\u001b[1;34m(self, *args, **kwargs)\u001b[0m\n\u001b[0;32m   1509\u001b[0m     \u001b[38;5;28;01mreturn\u001b[39;00m \u001b[38;5;28mself\u001b[39m\u001b[38;5;241m.\u001b[39m_compiled_call_impl(\u001b[38;5;241m*\u001b[39margs, \u001b[38;5;241m*\u001b[39m\u001b[38;5;241m*\u001b[39mkwargs)  \u001b[38;5;66;03m# type: ignore[misc]\u001b[39;00m\n\u001b[0;32m   1510\u001b[0m \u001b[38;5;28;01melse\u001b[39;00m:\n\u001b[1;32m-> 1511\u001b[0m     \u001b[38;5;28;01mreturn\u001b[39;00m \u001b[38;5;28;43mself\u001b[39;49m\u001b[38;5;241;43m.\u001b[39;49m\u001b[43m_call_impl\u001b[49m\u001b[43m(\u001b[49m\u001b[38;5;241;43m*\u001b[39;49m\u001b[43margs\u001b[49m\u001b[43m,\u001b[49m\u001b[43m \u001b[49m\u001b[38;5;241;43m*\u001b[39;49m\u001b[38;5;241;43m*\u001b[39;49m\u001b[43mkwargs\u001b[49m\u001b[43m)\u001b[49m\n",
      "File \u001b[1;32mc:\\Python311\\Lib\\site-packages\\torch\\nn\\modules\\module.py:1520\u001b[0m, in \u001b[0;36mModule._call_impl\u001b[1;34m(self, *args, **kwargs)\u001b[0m\n\u001b[0;32m   1515\u001b[0m \u001b[38;5;66;03m# If we don't have any hooks, we want to skip the rest of the logic in\u001b[39;00m\n\u001b[0;32m   1516\u001b[0m \u001b[38;5;66;03m# this function, and just call forward.\u001b[39;00m\n\u001b[0;32m   1517\u001b[0m \u001b[38;5;28;01mif\u001b[39;00m \u001b[38;5;129;01mnot\u001b[39;00m (\u001b[38;5;28mself\u001b[39m\u001b[38;5;241m.\u001b[39m_backward_hooks \u001b[38;5;129;01mor\u001b[39;00m \u001b[38;5;28mself\u001b[39m\u001b[38;5;241m.\u001b[39m_backward_pre_hooks \u001b[38;5;129;01mor\u001b[39;00m \u001b[38;5;28mself\u001b[39m\u001b[38;5;241m.\u001b[39m_forward_hooks \u001b[38;5;129;01mor\u001b[39;00m \u001b[38;5;28mself\u001b[39m\u001b[38;5;241m.\u001b[39m_forward_pre_hooks\n\u001b[0;32m   1518\u001b[0m         \u001b[38;5;129;01mor\u001b[39;00m _global_backward_pre_hooks \u001b[38;5;129;01mor\u001b[39;00m _global_backward_hooks\n\u001b[0;32m   1519\u001b[0m         \u001b[38;5;129;01mor\u001b[39;00m _global_forward_hooks \u001b[38;5;129;01mor\u001b[39;00m _global_forward_pre_hooks):\n\u001b[1;32m-> 1520\u001b[0m     \u001b[38;5;28;01mreturn\u001b[39;00m \u001b[43mforward_call\u001b[49m\u001b[43m(\u001b[49m\u001b[38;5;241;43m*\u001b[39;49m\u001b[43margs\u001b[49m\u001b[43m,\u001b[49m\u001b[43m \u001b[49m\u001b[38;5;241;43m*\u001b[39;49m\u001b[38;5;241;43m*\u001b[39;49m\u001b[43mkwargs\u001b[49m\u001b[43m)\u001b[49m\n\u001b[0;32m   1522\u001b[0m \u001b[38;5;28;01mtry\u001b[39;00m:\n\u001b[0;32m   1523\u001b[0m     result \u001b[38;5;241m=\u001b[39m \u001b[38;5;28;01mNone\u001b[39;00m\n",
      "File \u001b[1;32mc:\\Python311\\Lib\\site-packages\\torch\\nn\\modules\\container.py:217\u001b[0m, in \u001b[0;36mSequential.forward\u001b[1;34m(self, input)\u001b[0m\n\u001b[0;32m    215\u001b[0m \u001b[38;5;28;01mdef\u001b[39;00m \u001b[38;5;21mforward\u001b[39m(\u001b[38;5;28mself\u001b[39m, \u001b[38;5;28minput\u001b[39m):\n\u001b[0;32m    216\u001b[0m     \u001b[38;5;28;01mfor\u001b[39;00m module \u001b[38;5;129;01min\u001b[39;00m \u001b[38;5;28mself\u001b[39m:\n\u001b[1;32m--> 217\u001b[0m         \u001b[38;5;28minput\u001b[39m \u001b[38;5;241m=\u001b[39m \u001b[43mmodule\u001b[49m\u001b[43m(\u001b[49m\u001b[38;5;28;43minput\u001b[39;49m\u001b[43m)\u001b[49m\n\u001b[0;32m    218\u001b[0m     \u001b[38;5;28;01mreturn\u001b[39;00m \u001b[38;5;28minput\u001b[39m\n",
      "File \u001b[1;32mc:\\Python311\\Lib\\site-packages\\torch\\nn\\modules\\module.py:1511\u001b[0m, in \u001b[0;36mModule._wrapped_call_impl\u001b[1;34m(self, *args, **kwargs)\u001b[0m\n\u001b[0;32m   1509\u001b[0m     \u001b[38;5;28;01mreturn\u001b[39;00m \u001b[38;5;28mself\u001b[39m\u001b[38;5;241m.\u001b[39m_compiled_call_impl(\u001b[38;5;241m*\u001b[39margs, \u001b[38;5;241m*\u001b[39m\u001b[38;5;241m*\u001b[39mkwargs)  \u001b[38;5;66;03m# type: ignore[misc]\u001b[39;00m\n\u001b[0;32m   1510\u001b[0m \u001b[38;5;28;01melse\u001b[39;00m:\n\u001b[1;32m-> 1511\u001b[0m     \u001b[38;5;28;01mreturn\u001b[39;00m \u001b[38;5;28;43mself\u001b[39;49m\u001b[38;5;241;43m.\u001b[39;49m\u001b[43m_call_impl\u001b[49m\u001b[43m(\u001b[49m\u001b[38;5;241;43m*\u001b[39;49m\u001b[43margs\u001b[49m\u001b[43m,\u001b[49m\u001b[43m \u001b[49m\u001b[38;5;241;43m*\u001b[39;49m\u001b[38;5;241;43m*\u001b[39;49m\u001b[43mkwargs\u001b[49m\u001b[43m)\u001b[49m\n",
      "File \u001b[1;32mc:\\Python311\\Lib\\site-packages\\torch\\nn\\modules\\module.py:1520\u001b[0m, in \u001b[0;36mModule._call_impl\u001b[1;34m(self, *args, **kwargs)\u001b[0m\n\u001b[0;32m   1515\u001b[0m \u001b[38;5;66;03m# If we don't have any hooks, we want to skip the rest of the logic in\u001b[39;00m\n\u001b[0;32m   1516\u001b[0m \u001b[38;5;66;03m# this function, and just call forward.\u001b[39;00m\n\u001b[0;32m   1517\u001b[0m \u001b[38;5;28;01mif\u001b[39;00m \u001b[38;5;129;01mnot\u001b[39;00m (\u001b[38;5;28mself\u001b[39m\u001b[38;5;241m.\u001b[39m_backward_hooks \u001b[38;5;129;01mor\u001b[39;00m \u001b[38;5;28mself\u001b[39m\u001b[38;5;241m.\u001b[39m_backward_pre_hooks \u001b[38;5;129;01mor\u001b[39;00m \u001b[38;5;28mself\u001b[39m\u001b[38;5;241m.\u001b[39m_forward_hooks \u001b[38;5;129;01mor\u001b[39;00m \u001b[38;5;28mself\u001b[39m\u001b[38;5;241m.\u001b[39m_forward_pre_hooks\n\u001b[0;32m   1518\u001b[0m         \u001b[38;5;129;01mor\u001b[39;00m _global_backward_pre_hooks \u001b[38;5;129;01mor\u001b[39;00m _global_backward_hooks\n\u001b[0;32m   1519\u001b[0m         \u001b[38;5;129;01mor\u001b[39;00m _global_forward_hooks \u001b[38;5;129;01mor\u001b[39;00m _global_forward_pre_hooks):\n\u001b[1;32m-> 1520\u001b[0m     \u001b[38;5;28;01mreturn\u001b[39;00m \u001b[43mforward_call\u001b[49m\u001b[43m(\u001b[49m\u001b[38;5;241;43m*\u001b[39;49m\u001b[43margs\u001b[49m\u001b[43m,\u001b[49m\u001b[43m \u001b[49m\u001b[38;5;241;43m*\u001b[39;49m\u001b[38;5;241;43m*\u001b[39;49m\u001b[43mkwargs\u001b[49m\u001b[43m)\u001b[49m\n\u001b[0;32m   1522\u001b[0m \u001b[38;5;28;01mtry\u001b[39;00m:\n\u001b[0;32m   1523\u001b[0m     result \u001b[38;5;241m=\u001b[39m \u001b[38;5;28;01mNone\u001b[39;00m\n",
      "File \u001b[1;32mc:\\Python311\\Lib\\site-packages\\torch\\nn\\modules\\pooling.py:164\u001b[0m, in \u001b[0;36mMaxPool2d.forward\u001b[1;34m(self, input)\u001b[0m\n\u001b[0;32m    163\u001b[0m \u001b[38;5;28;01mdef\u001b[39;00m \u001b[38;5;21mforward\u001b[39m(\u001b[38;5;28mself\u001b[39m, \u001b[38;5;28minput\u001b[39m: Tensor):\n\u001b[1;32m--> 164\u001b[0m     \u001b[38;5;28;01mreturn\u001b[39;00m \u001b[43mF\u001b[49m\u001b[38;5;241;43m.\u001b[39;49m\u001b[43mmax_pool2d\u001b[49m\u001b[43m(\u001b[49m\u001b[38;5;28;43minput\u001b[39;49m\u001b[43m,\u001b[49m\u001b[43m \u001b[49m\u001b[38;5;28;43mself\u001b[39;49m\u001b[38;5;241;43m.\u001b[39;49m\u001b[43mkernel_size\u001b[49m\u001b[43m,\u001b[49m\u001b[43m \u001b[49m\u001b[38;5;28;43mself\u001b[39;49m\u001b[38;5;241;43m.\u001b[39;49m\u001b[43mstride\u001b[49m\u001b[43m,\u001b[49m\n\u001b[0;32m    165\u001b[0m \u001b[43m                        \u001b[49m\u001b[38;5;28;43mself\u001b[39;49m\u001b[38;5;241;43m.\u001b[39;49m\u001b[43mpadding\u001b[49m\u001b[43m,\u001b[49m\u001b[43m \u001b[49m\u001b[38;5;28;43mself\u001b[39;49m\u001b[38;5;241;43m.\u001b[39;49m\u001b[43mdilation\u001b[49m\u001b[43m,\u001b[49m\u001b[43m \u001b[49m\u001b[43mceil_mode\u001b[49m\u001b[38;5;241;43m=\u001b[39;49m\u001b[38;5;28;43mself\u001b[39;49m\u001b[38;5;241;43m.\u001b[39;49m\u001b[43mceil_mode\u001b[49m\u001b[43m,\u001b[49m\n\u001b[0;32m    166\u001b[0m \u001b[43m                        \u001b[49m\u001b[43mreturn_indices\u001b[49m\u001b[38;5;241;43m=\u001b[39;49m\u001b[38;5;28;43mself\u001b[39;49m\u001b[38;5;241;43m.\u001b[39;49m\u001b[43mreturn_indices\u001b[49m\u001b[43m)\u001b[49m\n",
      "File \u001b[1;32mc:\\Python311\\Lib\\site-packages\\torch\\_jit_internal.py:499\u001b[0m, in \u001b[0;36mboolean_dispatch.<locals>.fn\u001b[1;34m(*args, **kwargs)\u001b[0m\n\u001b[0;32m    497\u001b[0m     \u001b[38;5;28;01mreturn\u001b[39;00m if_true(\u001b[38;5;241m*\u001b[39margs, \u001b[38;5;241m*\u001b[39m\u001b[38;5;241m*\u001b[39mkwargs)\n\u001b[0;32m    498\u001b[0m \u001b[38;5;28;01melse\u001b[39;00m:\n\u001b[1;32m--> 499\u001b[0m     \u001b[38;5;28;01mreturn\u001b[39;00m \u001b[43mif_false\u001b[49m\u001b[43m(\u001b[49m\u001b[38;5;241;43m*\u001b[39;49m\u001b[43margs\u001b[49m\u001b[43m,\u001b[49m\u001b[43m \u001b[49m\u001b[38;5;241;43m*\u001b[39;49m\u001b[38;5;241;43m*\u001b[39;49m\u001b[43mkwargs\u001b[49m\u001b[43m)\u001b[49m\n",
      "File \u001b[1;32mc:\\Python311\\Lib\\site-packages\\torch\\nn\\functional.py:796\u001b[0m, in \u001b[0;36m_max_pool2d\u001b[1;34m(input, kernel_size, stride, padding, dilation, ceil_mode, return_indices)\u001b[0m\n\u001b[0;32m    794\u001b[0m \u001b[38;5;28;01mif\u001b[39;00m stride \u001b[38;5;129;01mis\u001b[39;00m \u001b[38;5;28;01mNone\u001b[39;00m:\n\u001b[0;32m    795\u001b[0m     stride \u001b[38;5;241m=\u001b[39m torch\u001b[38;5;241m.\u001b[39mjit\u001b[38;5;241m.\u001b[39mannotate(List[\u001b[38;5;28mint\u001b[39m], [])\n\u001b[1;32m--> 796\u001b[0m \u001b[38;5;28;01mreturn\u001b[39;00m \u001b[43mtorch\u001b[49m\u001b[38;5;241;43m.\u001b[39;49m\u001b[43mmax_pool2d\u001b[49m\u001b[43m(\u001b[49m\u001b[38;5;28;43minput\u001b[39;49m\u001b[43m,\u001b[49m\u001b[43m \u001b[49m\u001b[43mkernel_size\u001b[49m\u001b[43m,\u001b[49m\u001b[43m \u001b[49m\u001b[43mstride\u001b[49m\u001b[43m,\u001b[49m\u001b[43m \u001b[49m\u001b[43mpadding\u001b[49m\u001b[43m,\u001b[49m\u001b[43m \u001b[49m\u001b[43mdilation\u001b[49m\u001b[43m,\u001b[49m\u001b[43m \u001b[49m\u001b[43mceil_mode\u001b[49m\u001b[43m)\u001b[49m\n",
      "\u001b[1;31mKeyboardInterrupt\u001b[0m: "
     ]
    }
   ],
   "source": [
    "for epoch in range(num_epochs):\n",
    "    with tqdm(total=len(train_loader), desc=f'Epoch {epoch + 1}/{num_epochs}', position=0, leave=True) as pbar_epoch:\n",
    "        for i, (imgs_lr, imgs_hr) in enumerate(train_loader):\n",
    "            imgs_lr = imgs_lr.to(device)\n",
    "            imgs_hr = imgs_hr.to(device)\n",
    "        \n",
    "            # Training the generator\n",
    "            fake_hr = generator(imgs_lr)\n",
    "            fake_hr_resized = F.interpolate(fake_hr, size=(96, 96), mode='bilinear', align_corners=False)\n",
    "        \n",
    "            optimizer_generator.zero_grad()\n",
    "        \n",
    "            real_labels = torch.ones((imgs_hr.size(0), 1), requires_grad=False).to(device)\n",
    "            fake_labels = torch.zeros((imgs_hr.size(0), 1), requires_grad=False).to(device)\n",
    "        \n",
    "            # Training the discriminator with real images\n",
    "            outputs_real = discriminator(imgs_hr)\n",
    "            loss_real = adversarial_criterion(outputs_real, real_labels)\n",
    "        \n",
    "            # Training discriminator with fake images\n",
    "            outputs_fake = discriminator(fake_hr_resized.detach())\n",
    "            loss_fake = adversarial_criterion(outputs_fake, fake_labels)\n",
    "        \n",
    "            loss_discriminator = (loss_real + loss_fake)/2\n",
    "            loss_discriminator.backward()\n",
    "            optimizer_discriminator.step()\n",
    "        \n",
    "            optimizer_generator.zero_grad()\n",
    "        \n",
    "            outputs_fake = discriminator(fake_hr_resized)\n",
    "            adversarial_loss = adversarial_criterion(outputs_fake, real_labels)\n",
    "        \n",
    "            pixel_loss = pixel_criterion(fake_hr_resized, imgs_hr)\n",
    "        \n",
    "            perceptual_loss = vgg_loss(fake_hr_resized, imgs_hr)\n",
    "        \n",
    "            perceptual_adversarial_loss = perceptual_loss + 0.001 * adversarial_loss\n",
    "        \n",
    "            total_loss = pixel_loss + perceptual_adversarial_loss\n",
    "            total_loss.backward()\n",
    "            optimizer_generator.step()\n",
    "            \n",
    "            pbar_epoch.update(1)\n",
    "            pbar_epoch.set_postfix({'Discriminator loss': loss_discriminator.item(), 'Generator loss': total_loss.item()})\n",
    "            \n",
    "        scheduler_generator.step(total_loss)\n",
    "        scheduler_discriminator.step(loss_discriminator)\n",
    "            \n",
    "    print(f\"[Epoch {epoch+1}/{num_epochs}] [D loss: {loss_discriminator.item():.4f}] [G loss: {total_loss.item():.4f}] \"\n",
    "              f\"[Pixel loss: {pixel_loss.item():.4f}] [VGG loss: {perceptual_loss.item():.4f}] \"\n",
    "              f\"[Adversarial loss: {adversarial_loss.item():.4f}]\")"
   ]
  },
  {
   "cell_type": "markdown",
   "metadata": {},
   "source": [
    "### Training loop with num of discriminator update per generator update"
   ]
  },
  {
   "cell_type": "code",
   "execution_count": 21,
   "metadata": {},
   "outputs": [
    {
     "name": "stderr",
     "output_type": "stream",
     "text": [
      "Epoch 0/10:   0%|          | 0/125 [00:00<?, ?it/s]"
     ]
    }
   ],
   "source": [
    "n_critic = 3  # Number of discriminator updates per generator update\n",
    "num_epochs = 10\n",
    "clip_value = 0.01  # For gradient clipping (optional)\n",
    "\n",
    "for epoch in range(num_epochs):\n",
    "    with tqdm(total=len(train_loader), desc=f'Epoch {epoch}/{num_epochs}', position=0, leave=True) as pbar_epoch:\n",
    "        for i, (imgs_lr, imgs_hr) in enumerate(train_loader):\n",
    "            imgs_lr = (imgs_lr / 255.0) * 2 - 1  # Normalize to [-1, 1]\n",
    "            imgs_hr = (imgs_hr / 255.0) * 2 - 1  # Normalize to [-1, 1]\n",
    "            \n",
    "            imgs_lr = imgs_lr.to(device)\n",
    "            imgs_hr = imgs_hr.to(device)\n",
    "\n",
    "            # Update Discriminator n_critic times\n",
    "            for _ in range(n_critic):\n",
    "                optimizer_discriminator.zero_grad()\n",
    "\n",
    "                # Training the discriminator with real images\n",
    "                outputs_real = discriminator(imgs_hr)\n",
    "                real_labels = torch.ones((imgs_hr.size(0), 1), requires_grad=False).to(device)\n",
    "                fake_labels = torch.zeros((imgs_hr.size(0), 1), requires_grad=False).to(device)\n",
    "                loss_real = adversarial_criterion(outputs_real, real_labels)\n",
    "\n",
    "                # Training discriminator with fake images\n",
    "                fake_hr = generator(imgs_lr).detach()\n",
    "                fake_hr_resized = F.interpolate(fake_hr, size=(96, 96), mode='bilinear', align_corners=False)\n",
    "                outputs_fake = discriminator(fake_hr_resized)\n",
    "                loss_fake = adversarial_criterion(outputs_fake, fake_labels)\n",
    "\n",
    "                loss_discriminator = (loss_real + loss_fake) / 2\n",
    "                loss_discriminator.backward()\n",
    "                \n",
    "                # Gradient Clipping (optional)\n",
    "                if clip_value:\n",
    "                    torch.nn.utils.clip_grad_norm_(discriminator.parameters(), clip_value)\n",
    "                \n",
    "                optimizer_discriminator.step()\n",
    "        \n",
    "            # Update Generator\n",
    "            optimizer_generator.zero_grad()\n",
    "            fake_hr = generator(imgs_lr)\n",
    "            fake_hr_resized = F.interpolate(fake_hr, size=(96, 96), mode='bilinear', align_corners=False)\n",
    "            outputs_fake = discriminator(fake_hr_resized)\n",
    "            adversarial_loss = adversarial_criterion(outputs_fake, real_labels)\n",
    "\n",
    "            pixel_loss = pixel_criterion(fake_hr_resized, imgs_hr)\n",
    "            perceptual_loss = vgg_loss(fake_hr_resized, imgs_hr)\n",
    "            perceptual_adversarial_loss = perceptual_loss + 0.001 * adversarial_loss\n",
    "\n",
    "            total_loss = pixel_loss + perceptual_adversarial_loss\n",
    "            total_loss.backward()\n",
    "            optimizer_generator.step()\n",
    "            \n",
    "            pbar_epoch.update(1)\n",
    "            pbar_epoch.set_postfix({'Discriminator loss': loss_discriminator.item(), 'Generator loss': total_loss.item()})\n",
    "            \n",
    "        scheduler_generator.step(total_loss)\n",
    "        scheduler_discriminator.step(loss_discriminator)\n",
    "            \n",
    "    print(f\"[Epoch {epoch+1}/{num_epochs}] [D loss: {loss_discriminator.item():.4f}] [G loss: {total_loss.item():.4f}] \"\n",
    "              f\"[Pixel loss: {pixel_loss.item():.4f}] [VGG loss: {perceptual_loss.item():.4f}] \"\n",
    "              f\"[Adversarial loss: {adversarial_loss.item():.4f}]\")"
   ]
  },
  {
   "cell_type": "code",
   "execution_count": 18,
   "metadata": {},
   "outputs": [],
   "source": [
    "generator_best = generator.state_dict()\n",
    "generator.load_state_dict(generator_best)\n",
    "torch.save(generator.state_dict(), 'SRGAN.pth')"
   ]
  },
  {
   "cell_type": "code",
   "execution_count": 19,
   "metadata": {},
   "outputs": [
    {
     "name": "stdout",
     "output_type": "stream",
     "text": [
      "Processed and saved: results/Set14\\baboon.bmp\n",
      "Processed and saved: results/Set14\\barbara.bmp\n",
      "Processed and saved: results/Set14\\bridge.bmp\n",
      "Processed and saved: results/Set14\\coastguard.bmp\n",
      "Processed and saved: results/Set14\\comic.bmp\n",
      "Processed and saved: results/Set14\\face.bmp\n",
      "Processed and saved: results/Set14\\flowers.bmp\n",
      "Processed and saved: results/Set14\\foreman.bmp\n",
      "Processed and saved: results/Set14\\lenna.bmp\n",
      "Processed and saved: results/Set14\\man.bmp\n",
      "Processed and saved: results/Set14\\monarch.bmp\n",
      "Processed and saved: results/Set14\\pepper.bmp\n",
      "Processed and saved: results/Set14\\ppt3.bmp\n",
      "Processed and saved: results/Set14\\zebra.bmp\n"
     ]
    }
   ],
   "source": [
    "# Function to process and save image\n",
    "def process_and_save_image(input_image_path, output_image_path):\n",
    "    input_image = cv2.imread(input_image_path)  # Read input image\n",
    "\n",
    "    # Convert from BGR to RGB\n",
    "    input_image_rgb = cv2.cvtColor(input_image, cv2.COLOR_BGR2RGB)\n",
    "        \n",
    "    # Convert image to tensor and normalize to [-1. 1]\n",
    "    input_tensor = torch.tensor(input_image_rgb, dtype=torch.float32).permute(2, 0, 1) / 255.0 * 2 - 1\n",
    "    \n",
    "    # Add batch dimension\n",
    "    input_tensor = input_tensor.unsqueeze(0)\n",
    "\n",
    "    # Perform inference\n",
    "    with torch.no_grad():\n",
    "        SR_tensor = generator(input_tensor, False)\n",
    "\n",
    "    # Post-process SR tensor\n",
    "    SR_tensor = SR_tensor.squeeze().permute(1, 2, 0).cpu().numpy()  # Remove batch dimension, permute to HWC\n",
    "    SR_tensor = np.clip((SR_tensor + 1) * 255.0 / 2, 0, 255).astype(np.uint8)  # Rescale to [0, 255] and convert to uint8\n",
    "\n",
    "    # Resize the output image by reducing it to one-fourth of its original dimensions\n",
    "    SR_tensor_resized = cv2.resize(SR_tensor, (SR_tensor.shape[1] // 4, SR_tensor.shape[0] // 4), interpolation=cv2.INTER_LINEAR)\n",
    "\n",
    "    # Save the super-resolved image\n",
    "    cv2.imwrite(output_image_path, cv2.cvtColor(SR_tensor_resized, cv2.COLOR_RGB2BGR))\n",
    "    print(f\"Processed and saved: {output_image_path}\")\n",
    "\n",
    "# Create output directory if it doesn't exist\n",
    "input_dir = 'data/Test/Set14'\n",
    "output_dir = 'results/Set14'\n",
    "os.makedirs(output_dir, exist_ok=True)\n",
    "\n",
    "# Process all images in the specified input directory\n",
    "for filename in os.listdir(input_dir):\n",
    "    if filename.endswith('.bmp'):\n",
    "        input_image_path = os.path.join(input_dir, filename)\n",
    "        output_image_path = os.path.join(output_dir, filename)\n",
    "        process_and_save_image(input_image_path, output_image_path)"
   ]
  }
 ],
 "metadata": {
  "kernelspec": {
   "display_name": "Python 3",
   "language": "python",
   "name": "python3"
  },
  "language_info": {
   "codemirror_mode": {
    "name": "ipython",
    "version": 3
   },
   "file_extension": ".py",
   "mimetype": "text/x-python",
   "name": "python",
   "nbconvert_exporter": "python",
   "pygments_lexer": "ipython3",
   "version": "3.11.5"
  }
 },
 "nbformat": 4,
 "nbformat_minor": 2
}
